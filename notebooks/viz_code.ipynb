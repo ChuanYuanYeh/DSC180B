{
 "cells": [
  {
   "cell_type": "code",
   "execution_count": null,
   "metadata": {},
   "outputs": [],
   "source": [
    "import sys\n",
    "import glob\n",
    "import os\n",
    "import pandas as pd\n",
    "import numpy as np\n",
    "import matplotlib.pyplot as plt\n",
    "import seaborn as sns\n",
    "import geopandas as gpd\n",
    "\n",
    "from random import choices\n",
    "from scipy import stats\n",
    "\n",
    "sys.path.insert(0, '../src/')\n",
    "from geospatial import read_gis"
   ]
  },
  {
   "cell_type": "code",
   "execution_count": null,
   "metadata": {},
   "outputs": [],
   "source": [
    "import arcgis"
   ]
  },
  {
   "cell_type": "markdown",
   "metadata": {},
   "source": [
    "# Arrests"
   ]
  },
  {
   "cell_type": "code",
   "execution_count": null,
   "metadata": {},
   "outputs": [],
   "source": [
    "map_df = gpd.read_file('a6f2e9.shp')\n",
    "map_df.head()"
   ]
  },
  {
   "cell_type": "code",
   "execution_count": null,
   "metadata": {},
   "outputs": [],
   "source": [
    "arrests = pd.read_csv('../data/cleaned/arrests-processed.csv')\n",
    "arrests.head()"
   ]
  },
  {
   "cell_type": "code",
   "execution_count": null,
   "metadata": {},
   "outputs": [],
   "source": [
    "map_df.APREC.unique()"
   ]
  },
  {
   "cell_type": "code",
   "execution_count": null,
   "metadata": {},
   "outputs": [],
   "source": [
    "arrests['Area Name'].unique()"
   ]
  },
  {
   "cell_type": "code",
   "execution_count": null,
   "metadata": {},
   "outputs": [],
   "source": [
    "def format_div(x):\n",
    "    if x.upper() in ['WEST LA','N HOLLYWOOD']:\n",
    "        if x.upper()=='WEST LA':\n",
    "            return 'WEST LOS ANGELES'\n",
    "        else:\n",
    "            return 'NORTH HOLLYWOOD'\n",
    "    else:\n",
    "        return x.upper()\n",
    "arrests['Area Name'] = arrests['Area Name'].apply(format_div)"
   ]
  },
  {
   "cell_type": "code",
   "execution_count": null,
   "metadata": {},
   "outputs": [],
   "source": [
    "arrests = arrests.loc[arrests.Year!=2020].groupby(['Area Name','Year']).size().unstack().reset_index()"
   ]
  },
  {
   "cell_type": "code",
   "execution_count": null,
   "metadata": {},
   "outputs": [],
   "source": [
    "merged = map_df.set_index('APREC').join(arrests.set_index('Area Name'))\n",
    "merged.head()"
   ]
  },
  {
   "cell_type": "code",
   "execution_count": null,
   "metadata": {},
   "outputs": [],
   "source": [
    "years = [2010,2011,2012,2013,2014,2015,2016,2017,2018,2019]\n",
    "output_path = ''\n",
    "# set the min and max range for the choropleth map\n",
    "vmin, vmax = 3000, 9000\n",
    "\n",
    "for year in years:\n",
    "    \n",
    "    # create map, UDPATE: added plt.Normalize to keep the legend range the same for all maps\n",
    "    fig = merged.plot(column=year, cmap='Blues', figsize=(10,10), linewidth=0.8, edgecolor='0.8', vmin=vmin, vmax=vmax, \n",
    "                      legend=True, norm=plt.Normalize(vmin=vmin, vmax=vmax))\n",
    "    \n",
    "    # remove axis of chart\n",
    "    fig.axis('off')\n",
    "    \n",
    "    # add a title\n",
    "    fig.set_title('Annual Arrests in LAPD Divisions', \\\n",
    "              fontdict={'fontsize': '25',\n",
    "                         'fontweight' : '3'})\n",
    "    \n",
    "    # position the annotation to the bottom left\n",
    "    fig.annotate(year,\n",
    "            xy=(0.1, .225), xycoords='figure fraction',\n",
    "            horizontalalignment='left', verticalalignment='top',\n",
    "            fontsize=35)\n",
    "    \n",
    "    # this will save the figure as a high-res png in the output path. you can also save as svg if you prefer.\n",
    "    filepath = os.path.join(output_path, str(year)+'_arrests.jpg')\n",
    "    chart = fig.get_figure()\n",
    "    chart.savefig(filepath, dpi=300)"
   ]
  },
  {
   "cell_type": "markdown",
   "metadata": {},
   "source": [
    "# Interactive Map"
   ]
  },
  {
   "cell_type": "code",
   "execution_count": null,
   "metadata": {},
   "outputs": [],
   "source": [
    "user = arcgis.GIS(username='cyyeh_ucsd5', password='Serpents123!')\n",
    "item = user.content.get('031d488e158144d0b3aecaa9c888b7b3')\n",
    "sdf = pd.DataFrame.spatial.from_layer(item.layers[0])\n",
    "sdf.APREC.unique()"
   ]
  },
  {
   "cell_type": "code",
   "execution_count": null,
   "metadata": {},
   "outputs": [],
   "source": [
    "def clean_csv(x):\n",
    "    if x == 'West LA':\n",
    "        return 'WEST LOS ANGELES'\n",
    "    elif x == 'N Hollywood':\n",
    "        return 'NORTH HOLLYWOOD'\n",
    "    return x.upper()"
   ]
  },
  {
   "cell_type": "code",
   "execution_count": null,
   "metadata": {},
   "outputs": [],
   "source": [
    "arrest_types = pd.read_csv('../viz/Analysis/Arrests/div_Charge Group Description_dist.csv')\n",
    "arrest_types.iloc[:,0] = arrest_types.iloc[:,0].apply(clean_csv)\n",
    "arrest_types.set_index('Unnamed: 0', inplace=True)\n",
    "arrest_types.head()"
   ]
  },
  {
   "cell_type": "code",
   "execution_count": null,
   "metadata": {},
   "outputs": [],
   "source": [
    "merged = sdf.set_index('APREC').join(arrest_types)\n",
    "#merged.drop(columns=['OBJECTID','PREC','AREA','PERIMETER','Shape__Area','Shape__Length']).reset_index().spatial.to_featurelayer('PredPol Arrests Analysis', gis=user)"
   ]
  },
  {
   "cell_type": "code",
   "execution_count": null,
   "metadata": {},
   "outputs": [],
   "source": [
    "import json\n",
    "from bokeh.io import output_file, show, output_notebook\n",
    "from bokeh.models import GeoJSONDataSource, LinearColorMapper, HoverTool, Select, CustomJS\n",
    "from bokeh.plotting import figure\n",
    "from bokeh.palettes import Viridis6\n",
    "from bokeh.layouts import column"
   ]
  },
  {
   "cell_type": "code",
   "execution_count": null,
   "metadata": {},
   "outputs": [],
   "source": [
    "output_notebook()"
   ]
  },
  {
   "cell_type": "code",
   "execution_count": null,
   "metadata": {},
   "outputs": [],
   "source": [
    "with open(('crimes_analysis_json.geojson')) as fp:\n",
    "    crime_types = json.load(fp)\n",
    "    \n",
    "geo_source = GeoJSONDataSource(geojson=json.dumps(crime_types))\n",
    "color_mapper = LinearColorMapper(palette=Viridis6)\n",
    "TOOLTIPS = [('Division', '@APREC'),('Impact', '@Personal')]\n",
    "op2 = [('Division', '@APREC'),('Impact', '@Property')]\n",
    "op3 = [('Division', '@APREC'),('Impact', '@Inchoate')]\n",
    "op4 = [('Division', '@APREC'),('Impact', '@Statutory')]\n",
    "op5 = [('Division', '@APREC'),('Impact', '@Financial_')]\n",
    "option = [TOOLTIPS, op2,op3,op4,op5]\n",
    "\n",
    "output_file(\"crime_arrest_types.html\")\n",
    "a = figure(title='Change in Proportion of Crime Types per Division', tooltips=TOOLTIPS, x_axis_location=None, y_axis_location=None, width=500, height=500)\n",
    "b = a.patches('xs', 'ys', fill_alpha=0.7, fill_color={'field': 'Personal', 'transform': color_mapper},\n",
    "          line_width=0.5, source=geo_source)\n",
    "\n",
    "with open(('arrests_analysis.geojson')) as fp:\n",
    "    arrest_types = json.load(fp)\n",
    "    \n",
    "geo_source2 = GeoJSONDataSource(geojson=json.dumps(arrest_types))\n",
    "c = figure(title='Change in Proportion of Arrest Types per Division', tooltips=TOOLTIPS, x_axis_location=None, y_axis_location=None, width=500, height=500)\n",
    "d = c.patches('xs', 'ys', fill_alpha=0.7, fill_color={'field': 'Personal', 'transform': color_mapper},\n",
    "          line_width=0.5, source=geo_source2)\n",
    "\n",
    "callback = CustomJS(args=dict(tt=a.hover, tt2=c.hover, opts=option, renderer=b, renderer2=d, cmap=color_mapper), code=\"\"\"\n",
    "        if (cb_obj.value=='Personal') {\n",
    "            tt[0].tooltips=opts[0];\n",
    "            tt2[0].tooltips=opts[0];\n",
    "        } else if (cb_obj.value=='Property') {\n",
    "            tt[0].tooltips=opts[1];\n",
    "            tt2[0].tooltips=opts[1];\n",
    "        } else if (cb_obj.value=='Inchoate') {\n",
    "            tt[0].tooltips=opts[2];\n",
    "            tt2[0].tooltips=opts[2];\n",
    "        } else if (cb_obj.value=='Statutory') {\n",
    "            tt[0].tooltips=opts[3];\n",
    "            tt2[0].tooltips=opts[3];\n",
    "        } else {\n",
    "            tt[0].tooltips=opts[4];\n",
    "            tt2[0].tooltips=opts[4];\n",
    "        }\n",
    "        \n",
    "        if (cb_obj.value!='Financial/Other') {\n",
    "            renderer.glyph.fill_color = {'field': cb_obj.value, 'transform': cmap}\n",
    "            renderer2.glyph.fill_color = {'field': cb_obj.value, 'transform': cmap}\n",
    "        } else {\n",
    "            renderer.glyph.fill_color['field'] = {'field': 'Financial_', 'transform': cmap}\n",
    "            renderer2.glyph.fill_color['field'] = {'field': 'Financial_', 'transform': cmap}\n",
    "        }\n",
    "        renderer.trigger('change')\n",
    "    \"\"\")\n",
    "\n",
    "select = Select(title=\"Crime Type:\", value=\"Personal\", options=[\"Personal\", \"Property\", \"Inchoate\", \"Statutory\", \"Financial/Other\"])\n",
    "select.js_on_change('value', callback)\n",
    "\n",
    "layout = column(select, a, c)\n",
    "show(layout)"
   ]
  },
  {
   "cell_type": "code",
   "execution_count": null,
   "metadata": {},
   "outputs": [],
   "source": []
  }
 ],
 "metadata": {
  "kernelspec": {
   "display_name": "Python 3",
   "language": "python",
   "name": "python3"
  },
  "language_info": {
   "codemirror_mode": {
    "name": "ipython",
    "version": 3
   },
   "file_extension": ".py",
   "mimetype": "text/x-python",
   "name": "python",
   "nbconvert_exporter": "python",
   "pygments_lexer": "ipython3",
   "version": "3.7.3"
  }
 },
 "nbformat": 4,
 "nbformat_minor": 2
}
