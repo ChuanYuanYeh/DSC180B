{
 "cells": [
  {
   "cell_type": "code",
   "execution_count": 4,
   "metadata": {},
   "outputs": [],
   "source": [
    "%matplotlib inline\n",
    "import sys\n",
    "sys.path.insert(0, '../src')\n",
    "import glob\n",
    "import pandas as pd\n",
    "import numpy as np\n",
    "import datetime as dt\n",
    "import matplotlib.pyplot as plt\n",
    "import seaborn as sns\n",
    "import os\n",
    "\n",
    "from random import choices\n",
    "from scipy import stats\n",
    "from analyze import test\n",
    "from geospatial import *\n",
    "from eda import *\n",
    "\n",
    "from pylab import rcParams\n",
    "import statsmodels.api as sm\n",
    "import warnings\n",
    "warnings.filterwarnings(\"ignore\")"
   ]
  },
  {
   "cell_type": "code",
   "execution_count": 2,
   "metadata": {},
   "outputs": [],
   "source": [
    "crimes = pd.read_csv('../data/cleaned/crime-processed.csv')\n",
    "arrests = pd.read_csv('../data/cleaned/arrests-processed.csv')"
   ]
  },
  {
   "cell_type": "code",
   "execution_count": null,
   "metadata": {},
   "outputs": [],
   "source": [
    "census = read_gis()"
   ]
  },
  {
   "cell_type": "code",
   "execution_count": null,
   "metadata": {},
   "outputs": [],
   "source": [
    "census.rename(columns=CENSUS_MAP, inplace=True)"
   ]
  },
  {
   "cell_type": "code",
   "execution_count": null,
   "metadata": {},
   "outputs": [],
   "source": [
    "for col in census:\n",
    "    if col.startswith('H7'):\n",
    "        census.drop(col, axis=1, inplace=True)\n",
    "census['Other'] += census['Others']"
   ]
  },
  {
   "cell_type": "code",
   "execution_count": null,
   "metadata": {},
   "outputs": [],
   "source": [
    "census_div = census[['APREC', 'Total', 'White', 'Black or African American',\n",
    "       'American Indian and Alaska Native', 'Asian',\n",
    "       'Native Hawaiian and Other Pacific Islander', 'Other',\n",
    "       'Hispanic or Latino']]"
   ]
  },
  {
   "cell_type": "code",
   "execution_count": null,
   "metadata": {},
   "outputs": [],
   "source": [
    "census_div = census_div.groupby('APREC').sum()"
   ]
  },
  {
   "cell_type": "code",
   "execution_count": null,
   "metadata": {},
   "outputs": [],
   "source": [
    "census_div"
   ]
  },
  {
   "cell_type": "code",
   "execution_count": null,
   "metadata": {},
   "outputs": [],
   "source": [
    "census_div.div(census_div['Total'], axis=0)"
   ]
  },
  {
   "cell_type": "code",
   "execution_count": null,
   "metadata": {},
   "outputs": [],
   "source": [
    "predpol_2013 = census_div.loc[['FOOTHILL', 'SOUTHEAST', 'NORTH HOLLYWOOD']].sum().to_frame().T\n",
    "predpol_2013.div(predpol_2013['Total'], axis=0)"
   ]
  },
  {
   "cell_type": "markdown",
   "metadata": {},
   "source": [
    "# Crime & Arrest Trends"
   ]
  },
  {
   "cell_type": "code",
   "execution_count": null,
   "metadata": {},
   "outputs": [],
   "source": [
    "crimes['Date Rptd'] = pd.to_datetime(crimes['Date Rptd'])"
   ]
  },
  {
   "cell_type": "code",
   "execution_count": null,
   "metadata": {},
   "outputs": [],
   "source": [
    "daily_crimes = crimes.loc[crimes.Year!=2020].groupby('Date Rptd').size()"
   ]
  },
  {
   "cell_type": "code",
   "execution_count": null,
   "metadata": {},
   "outputs": [],
   "source": [
    "fig = plt.figure(figsize=(10, 6))\n",
    "ax = daily_crimes.plot(legend=False)\n",
    "ax.set_title('Crime Trends in LA (2010-2019)', fontsize=25)\n",
    "daily_crimes.rolling(window=7).mean().plot(ax=ax)\n",
    "daily_crimes.rolling(window=30).mean().plot(ax=ax)\n",
    "daily_crimes.rolling(window=365).mean().plot(ax=ax)\n",
    "plt.axvline(dt.datetime(2013, 1, 1), linewidth=3, color='purple')\n",
    "plt.axvline(dt.datetime(2015, 1, 1), linewidth=3, color='yellow')\n",
    "ax.legend(['Daily', 'Weekly', 'Monthly', 'Annually', 'PredPol in 3 Divisions', 'PredPol in All Divisions'])\n",
    "plt.savefig('Crime Trends in LA (2010-2019)', bbox_inches='tight')\n",
    "plt.show()"
   ]
  },
  {
   "cell_type": "code",
   "execution_count": null,
   "metadata": {},
   "outputs": [],
   "source": [
    "filtered_crimes = crimes.loc[(crimes.Year>=2013)&(crimes.Year<=2014)].groupby('Date Rptd').size()\n",
    "fig = plt.figure(figsize=(10, 6))\n",
    "ax = filtered_crimes.plot(legend=False)\n",
    "ax.set_title('Crime Trends in LA (2013-2014)')\n",
    "filtered_crimes.rolling(window=7).mean().plot(ax=ax)\n",
    "filtered_crimes.rolling(window=30).mean().plot(ax=ax)\n",
    "ax.legend(['Daily', 'Weekly', 'Monthly'])\n",
    "plt.show()"
   ]
  },
  {
   "cell_type": "markdown",
   "metadata": {},
   "source": [
    "# Stationarity of Time Series"
   ]
  },
  {
   "cell_type": "code",
   "execution_count": null,
   "metadata": {},
   "outputs": [],
   "source": [
    "from statsmodels.tsa.stattools import adfuller\n",
    "def test_stationarity(timeseries, title):\n",
    "    \n",
    "    #Determing rolling statistics\n",
    "    rolmean = timeseries.rolling(12).mean()\n",
    "    rolstd = timeseries.rolling(12).std()\n",
    "\n",
    "    #Plot rolling statistics:\n",
    "    orig = plt.plot(timeseries, color='blue',label='Original')\n",
    "    mean = plt.plot(rolmean, color='red', label='Rolling Mean')\n",
    "    std = plt.plot(rolstd, color='black', label = 'Rolling Std')\n",
    "    plt.legend(loc='best')\n",
    "    plt.title(title)\n",
    "    plt.show(block=False)\n",
    "    \n",
    "    #Perform Dickey-Fuller test:\n",
    "    print('Results of Dickey-Fuller Test:')\n",
    "    dftest = adfuller(timeseries, autolag='AIC')\n",
    "    dfoutput = pd.Series(dftest[0:4], index=['Test Statistic','p-value','#Lags Used','Number of Observations Used'])\n",
    "    for key,value in dftest[4].items():\n",
    "        dfoutput['Critical Value (%s)'%key] = value\n",
    "    print(dfoutput)"
   ]
  },
  {
   "cell_type": "markdown",
   "metadata": {},
   "source": [
    "### Overall crimes is stationary i.e. mean and variance does not vary over time"
   ]
  },
  {
   "cell_type": "code",
   "execution_count": null,
   "metadata": {},
   "outputs": [],
   "source": [
    "test_stationarity(daily_crimes, 'Daily Crimes 2010-2019')"
   ]
  },
  {
   "cell_type": "markdown",
   "metadata": {},
   "source": [
    "### Crimes between 2013-14 isn't stationary - slightly decreasing"
   ]
  },
  {
   "cell_type": "code",
   "execution_count": null,
   "metadata": {},
   "outputs": [],
   "source": [
    "test_stationarity(filtered_crimes, 'Daily Crimes 2013-14')"
   ]
  },
  {
   "cell_type": "markdown",
   "metadata": {},
   "source": [
    "### Crimes after PredPol was deployed in all divisions were stationary once again with higher mean compared to pre-2013"
   ]
  },
  {
   "cell_type": "code",
   "execution_count": null,
   "metadata": {},
   "outputs": [],
   "source": [
    "test_stationarity(crimes.loc[(crimes.Year<=2012)&(crimes.Year!=2020)].groupby('Date Rptd').size(),'Daily Crimes pre-2013')"
   ]
  },
  {
   "cell_type": "code",
   "execution_count": null,
   "metadata": {},
   "outputs": [],
   "source": [
    "test_stationarity(crimes.loc[(crimes.Year>=2015)&(crimes.Year!=2020)].groupby('Date Rptd').size(),'Daily Crimes post-2015')"
   ]
  },
  {
   "cell_type": "code",
   "execution_count": null,
   "metadata": {
    "scrolled": true
   },
   "outputs": [],
   "source": [
    "arrests['Arrest Date'] = pd.to_datetime(arrests['Arrest Date'])\n",
    "d1aily_arrests = arrests.loc[arrests.Year!=2020].groupby('Arrest Date').size()\n",
    "fig = plt.figure(figsize=(10, 6))\n",
    "ax = daily_arrests.plot(legend=False)\n",
    "ax.set_title('Arrest Trends in LA (2010-2019)')\n",
    "daily_arrests.rolling(window=7).mean().plot(ax=ax)\n",
    "daily_arrests.rolling(window=30).mean().plot(ax=ax)\n",
    "daily_arrests.rolling(window=365).mean().plot(ax=ax)\n",
    "ax.legend(['Daily', 'Weekly', 'Monthly', 'Annually'])\n",
    "plt.axvline(dt.datetime(2013, 1, 1), linewidth=3, color='purple')\n",
    "plt.axvline(dt.datetime(2015, 1, 1), linewidth=3, color='yellow')\n",
    "ax.legend(['Daily', 'Weekly', 'Monthly', 'Annually', 'PredPol in 3 Divisions', 'PredPol in All Divisions'])\n",
    "plt.show()"
   ]
  },
  {
   "cell_type": "code",
   "execution_count": null,
   "metadata": {},
   "outputs": [],
   "source": [
    "filtered_arrests = arrests.loc[(arrests.Year>=2013)&(arrests.Year<=2014)].groupby('Arrest Date').size()\n",
    "fig = plt.figure(figsize=(10, 6))\n",
    "ax = filtered_arrests.plot(legend=False)\n",
    "ax.set_title('Arrest Trends in LA (2013-2014)')\n",
    "filtered_arrests.rolling(window=7).mean().plot(ax=ax)\n",
    "filtered_arrests.rolling(window=30).mean().plot(ax=ax)\n",
    "ax.legend(['Daily', 'Weekly', 'Monthly'])\n",
    "plt.show()"
   ]
  },
  {
   "cell_type": "code",
   "execution_count": null,
   "metadata": {},
   "outputs": [],
   "source": [
    "test_stationarity(filtered_arrests, 'Daily Arrests 2013-2014')"
   ]
  },
  {
   "cell_type": "markdown",
   "metadata": {},
   "source": [
    "# Distribution of Crime Types"
   ]
  },
  {
   "cell_type": "markdown",
   "metadata": {},
   "source": [
    "### Here we narrow our scope to just data between 2013 and 2014 when PredPol was only deployed in the North Hollywood, Southeast, and Foothill divisions\n",
    "### The t-tests thus compare the distribution of crime types in those divisions with the distribution of the remaining 18 divisions"
   ]
  },
  {
   "cell_type": "code",
   "execution_count": null,
   "metadata": {},
   "outputs": [],
   "source": [
    "from analyze import *"
   ]
  },
  {
   "cell_type": "code",
   "execution_count": null,
   "metadata": {},
   "outputs": [],
   "source": [
    "def format_df(df, feat, scope=False, area=False, group='PredPol Deployed', group2=['Area Name', 'PredPol Deployed']):\n",
    "    if feat == 'Descent Description':\n",
    "        group = 'Reassigned Officer'\n",
    "        group2 = ['Stop Division', 'Reassigned Officer']\n",
    "    if scope:\n",
    "        df = df.loc[(df.Year >= 2013) & (df.Year <= 2014)]\n",
    "    else:\n",
    "        df = df.loc[df.Year != 2020]\n",
    "    if not area:\n",
    "        return df.groupby(group)[feat].value_counts(normalize=True).unstack().T\n",
    "    else:\n",
    "        return df.groupby(group2)[feat].value_counts(normalize=True).unstack()\n",
    "\n",
    "format_df(crimes, 'Crime Type', scope=True)"
   ]
  },
  {
   "cell_type": "code",
   "execution_count": null,
   "metadata": {},
   "outputs": [],
   "source": [
    "def test_overall(df, outpath, feat, scope=False):\n",
    "    print('Testing overall distribution of {}.'.format(feat))\n",
    "    types = format_df(df, scope=scope, feat=feat)\n",
    "    statvals = []\n",
    "    pvals = []\n",
    "    for tp, row in types.iterrows():\n",
    "        print('{}: {}'.format(feat, tp))\n",
    "        try:\n",
    "            stat, pval = test(tp, row[1], row[0])\n",
    "        except IndexError:\n",
    "            stat, pval = 0.0, 0.0\n",
    "        statvals.append(round(stat, 5))\n",
    "        pvals.append(round(pval, 5))\n",
    "        print('Statistic = ', stat)\n",
    "        print('P-Value = {}\\n'.format(pval))\n",
    "    if feat == 'Crime Type' or feat == 'Charge Group Description':\n",
    "        idx = TYPES\n",
    "    elif feat == 'Crime Charge' or feat == 'Arrest Type Code':\n",
    "        idx = CHARGES\n",
    "    elif feat == 'Descent Description':\n",
    "        idx = RACES\n",
    "    if scope:\n",
    "        title = 'ovr_{}_dist_2013-14.csv'.format(feat)\n",
    "    else:\n",
    "        title = 'ovr_{}_dist.csv'.format(feat)\n",
    "    try:\n",
    "        pd.DataFrame({'Statistic':statvals, 'P-Value':pvals}, index=idx).to_csv(os.path.join(outpath, title))\n",
    "    except ValueError:\n",
    "        pd.DataFrame({'Statistic':statvals, 'P-Value':pvals}, index=idx[:-1]).to_csv(os.path.join(outpath, title))\n",
    "    print('Complete.')\n",
    "\n",
    "test_overall(crimes, '', 'Crime Type', scope=True)"
   ]
  },
  {
   "cell_type": "code",
   "execution_count": null,
   "metadata": {},
   "outputs": [],
   "source": [
    "format_df(arrests, 'Charge Group Description', scope=True)"
   ]
  },
  {
   "cell_type": "code",
   "execution_count": null,
   "metadata": {},
   "outputs": [],
   "source": [
    "test_overall(arrests, '', 'Charge Group Description', scope=True)"
   ]
  },
  {
   "cell_type": "code",
   "execution_count": 5,
   "metadata": {},
   "outputs": [
    {
     "name": "stdout",
     "output_type": "stream",
     "text": [
      "Plotting Number of Arrests by Year\n",
      "Complete.\n"
     ]
    },
    {
     "data": {
      "image/png": "[encoded data removed]",
      "text/plain": [
       "<Figure size 720x432 with 1 Axes>"
      ]
     },
     "metadata": {
      "needs_background": "light"
     },
     "output_type": "display_data"
    }
   ],
   "source": [
    "plot_graph(group_df(arrests, ['PredPol Deployed','Year'], 'size'), '', 'bar', 'Number of Arrests by Year', 'Year', 'Number of Arrests')"
   ]
  },
  {
   "cell_type": "code",
   "execution_count": null,
   "metadata": {},
   "outputs": [],
   "source": []
  }
 ],
 "metadata": {
  "kernelspec": {
   "display_name": "Python 3",
   "language": "python",
   "name": "python3"
  },
  "language_info": {
   "codemirror_mode": {
    "name": "ipython",
    "version": 3
   },
   "file_extension": ".py",
   "mimetype": "text/x-python",
   "name": "python",
   "nbconvert_exporter": "python",
   "pygments_lexer": "ipython3",
   "version": "3.7.3"
  }
 },
 "nbformat": 4,
 "nbformat_minor": 2
}
