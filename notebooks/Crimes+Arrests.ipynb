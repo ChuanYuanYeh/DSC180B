{
 "cells": [
  {
   "cell_type": "code",
   "execution_count": null,
   "metadata": {},
   "outputs": [],
   "source": [
    "%matplotlib inline\n",
    "import sys\n",
    "sys.path.insert(0, '../src')\n",
    "import glob\n",
    "import pandas as pd\n",
    "import numpy as np\n",
    "import datetime as dt\n",
    "import matplotlib.pyplot as plt\n",
    "import seaborn as sns\n",
    "import os\n",
    "\n",
    "from random import choices\n",
    "from scipy import stats\n",
    "from analyze import test\n",
    "from geospatial import *\n",
    "\n",
    "from pylab import rcParams\n",
    "import statsmodels.api as sm\n",
    "import warnings\n",
    "warnings.filterwarnings(\"ignore\")"
   ]
  },
  {
   "cell_type": "code",
   "execution_count": null,
   "metadata": {},
   "outputs": [],
   "source": [
    "crimes = pd.read_csv('../data/cleaned/crime-processed.csv')\n",
    "arrests = pd.read_csv('../data/cleaned/arrests-processed.csv')"
   ]
  },
  {
   "cell_type": "code",
   "execution_count": null,
   "metadata": {},
   "outputs": [],
   "source": [
    "census = read_gis()"
   ]
  },
  {
   "cell_type": "code",
   "execution_count": null,
   "metadata": {},
   "outputs": [],
   "source": [
    "census.rename(columns=CENSUS_MAP, inplace=True)"
   ]
  },
  {
   "cell_type": "code",
   "execution_count": null,
   "metadata": {},
   "outputs": [],
   "source": [
    "for col in census:\n",
    "    if col.startswith('H7'):\n",
    "        census.drop(col, axis=1, inplace=True)\n",
    "census['Other'] += census['Others']"
   ]
  },
  {
   "cell_type": "code",
   "execution_count": null,
   "metadata": {},
   "outputs": [],
   "source": [
    "census_div = census[['APREC', 'Total', 'White', 'Black or African American',\n",
    "       'American Indian and Alaska Native', 'Asian',\n",
    "       'Native Hawaiian and Other Pacific Islander', 'Other',\n",
    "       'Hispanic or Latino']]"
   ]
  },
  {
   "cell_type": "code",
   "execution_count": null,
   "metadata": {},
   "outputs": [],
   "source": [
    "census_div = census_div.groupby('APREC').sum()"
   ]
  },
  {
   "cell_type": "code",
   "execution_count": null,
   "metadata": {},
   "outputs": [],
   "source": [
    "census_div.div(census_div['Total'], axis=0)"
   ]
  },
  {
   "cell_type": "markdown",
   "metadata": {},
   "source": [
    "# Crime & Arrest Trends"
   ]
  },
  {
   "cell_type": "code",
   "execution_count": null,
   "metadata": {},
   "outputs": [],
   "source": [
    "crimes['Date Rptd'] = pd.to_datetime(crimes['Date Rptd'])"
   ]
  },
  {
   "cell_type": "code",
   "execution_count": null,
   "metadata": {},
   "outputs": [],
   "source": [
    "daily_crimes = crimes.loc[crimes.Year!=2020].groupby('Date Rptd').size()"
   ]
  },
  {
   "cell_type": "code",
   "execution_count": null,
   "metadata": {},
   "outputs": [],
   "source": [
    "fig = plt.figure(figsize=(10, 6))\n",
    "ax = daily_crimes.plot(legend=False)\n",
    "ax.set_title('Crime Trends in LA (2010-2019)')\n",
    "daily_crimes.rolling(window=7).mean().plot(ax=ax)\n",
    "daily_crimes.rolling(window=30).mean().plot(ax=ax)\n",
    "daily_crimes.rolling(window=365).mean().plot(ax=ax)\n",
    "plt.axvline(dt.datetime(2013, 1, 1), linewidth=3, color='purple')\n",
    "plt.axvline(dt.datetime(2015, 1, 1), linewidth=3, color='yellow')\n",
    "ax.legend(['Daily', 'Weekly', 'Monthly', 'Annually', '3 Divisions', 'All Divisions'])\n",
    "plt.show()"
   ]
  },
  {
   "cell_type": "code",
   "execution_count": null,
   "metadata": {},
   "outputs": [],
   "source": [
    "filtered_crimes = crimes.loc[(crimes.Year>=2013)&(crimes.Year<=2014)].groupby('Date Rptd').size()\n",
    "fig = plt.figure(figsize=(10, 6))\n",
    "ax = filtered_crimes.plot(legend=False)\n",
    "ax.set_title('Crime Trends in LA (2013-2014)')\n",
    "filtered_crimes.rolling(window=7).mean().plot(ax=ax)\n",
    "filtered_crimes.rolling(window=30).mean().plot(ax=ax)\n",
    "ax.legend(['Daily', 'Weekly', 'Monthly'])\n",
    "plt.show()"
   ]
  },
  {
   "cell_type": "code",
   "execution_count": null,
   "metadata": {
    "scrolled": true
   },
   "outputs": [],
   "source": [
    "arrests['Arrest Date'] = pd.to_datetime(arrests['Arrest Date'])\n",
    "daily_arrests = arrests.loc[arrests.Year!=2020].groupby('Arrest Date').size()\n",
    "fig = plt.figure(figsize=(10, 6))\n",
    "ax = daily_arrests.plot(legend=False)\n",
    "ax.set_title('Arrest Trends in LA (2010-2019)')\n",
    "daily_arrests.rolling(window=7).mean().plot(ax=ax)\n",
    "daily_arrests.rolling(window=30).mean().plot(ax=ax)\n",
    "daily_arrests.rolling(window=365).mean().plot(ax=ax)\n",
    "ax.legend(['Daily', 'Weekly', 'Monthly', 'Annually'])\n",
    "plt.axvline(dt.datetime(2013, 1, 1), linewidth=3, color='purple')\n",
    "plt.axvline(dt.datetime(2015, 1, 1), linewidth=3, color='yellow')\n",
    "ax.legend(['Daily', 'Weekly', 'Monthly', 'Annually', '3 Divisions', 'All Divisions'])\n",
    "plt.show()"
   ]
  },
  {
   "cell_type": "code",
   "execution_count": null,
   "metadata": {},
   "outputs": [],
   "source": [
    "filtered_arrests = arrests.loc[(arrests.Year>=2013)&(arrests.Year<=2014)].groupby('Arrest Date').size()\n",
    "fig = plt.figure(figsize=(10, 6))\n",
    "ax = filtered_arrests.plot(legend=False)\n",
    "ax.set_title('Arrest Trends in LA (2013-2014)')\n",
    "filtered_arrests.rolling(window=7).mean().plot(ax=ax)\n",
    "filtered_arrests.rolling(window=30).mean().plot(ax=ax)\n",
    "ax.legend(['Daily', 'Weekly', 'Monthly'])\n",
    "plt.show()"
   ]
  },
  {
   "cell_type": "code",
   "execution_count": null,
   "metadata": {},
   "outputs": [],
   "source": [
    "from analyze import *"
   ]
  },
  {
   "cell_type": "code",
   "execution_count": null,
   "metadata": {},
   "outputs": [],
   "source": [
    "def format_df(df, feat, scope=False, area=False, group='PredPol Deployed', group2=['Area Name', 'PredPol Deployed']):\n",
    "    if feat == 'Descent Description':\n",
    "        group = 'Reassigned Officer'\n",
    "        group2 = ['Stop Division', 'Reassigned Officer']\n",
    "    if scope:\n",
    "        df = df.loc[(df.Year >= 2013) & (df.Year <= 2014)]\n",
    "    else:\n",
    "        df = df.loc[df.Year != 2020]\n",
    "    if not area:\n",
    "        return df.groupby(group)[feat].value_counts(normalize=True).unstack().T\n",
    "    else:\n",
    "        return df.groupby(group2)[feat].value_counts(normalize=True).unstack()\n",
    "\n",
    "format_df(crimes, 'Crime Type', scope=True)"
   ]
  },
  {
   "cell_type": "code",
   "execution_count": null,
   "metadata": {},
   "outputs": [],
   "source": [
    "def test_overall(df, outpath, feat, scope=False):\n",
    "    print('Testing overall distribution of {}.'.format(feat))\n",
    "    types = format_df(df, scope=scope, feat=feat)\n",
    "    statvals = []\n",
    "    pvals = []\n",
    "    for tp, row in types.iterrows():\n",
    "        print('{}: {}'.format(feat, tp))\n",
    "        try:\n",
    "            stat, pval = test(tp, row[1], row[0])\n",
    "        except IndexError:\n",
    "            stat, pval = 0.0, 0.0\n",
    "        statvals.append(round(stat, 5))\n",
    "        pvals.append(round(pval, 5))\n",
    "        print('Statistic = ', stat)\n",
    "        print('P-Value = {}\\n'.format(pval))\n",
    "    if feat == 'Crime Type' or feat == 'Charge Group Description':\n",
    "        idx = TYPES\n",
    "    elif feat == 'Crime Charge' or feat == 'Arrest Type Code':\n",
    "        idx = CHARGES\n",
    "    elif feat == 'Descent Description':\n",
    "        idx = RACES\n",
    "    if scope:\n",
    "        title = 'ovr_{}_dist_2013-14.csv'.format(feat)\n",
    "    else:\n",
    "        title = 'ovr_{}_dist.csv'.format(feat)\n",
    "    try:\n",
    "        pd.DataFrame({'Statistic':statvals, 'P-Value':pvals}, index=idx).to_csv(os.path.join(outpath, title))\n",
    "    except ValueError:\n",
    "        pd.DataFrame({'Statistic':statvals, 'P-Value':pvals}, index=idx[:-1]).to_csv(os.path.join(outpath, title))\n",
    "    print('Complete.')\n",
    "\n",
    "test_overall(crimes, '', 'Crime Type', scope=True)"
   ]
  },
  {
   "cell_type": "code",
   "execution_count": null,
   "metadata": {},
   "outputs": [],
   "source": [
    "test_overall(arrests, '', 'Charge Group Description', scope=True)"
   ]
  },
  {
   "cell_type": "code",
   "execution_count": null,
   "metadata": {},
   "outputs": [],
   "source": []
  }
 ],
 "metadata": {
  "kernelspec": {
   "display_name": "Python 3",
   "language": "python",
   "name": "python3"
  },
  "language_info": {
   "codemirror_mode": {
    "name": "ipython",
    "version": 3
   },
   "file_extension": ".py",
   "mimetype": "text/x-python",
   "name": "python",
   "nbconvert_exporter": "python",
   "pygments_lexer": "ipython3",
   "version": "3.7.3"
  }
 },
 "nbformat": 4,
 "nbformat_minor": 2
}
