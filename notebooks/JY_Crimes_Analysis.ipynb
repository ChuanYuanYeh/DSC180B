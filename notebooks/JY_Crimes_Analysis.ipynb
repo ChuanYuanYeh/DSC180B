{
 "cells": [
  {
   "cell_type": "code",
   "execution_count": null,
   "metadata": {},
   "outputs": [],
   "source": [
    "import sys\n",
    "import pandas as pd\n",
    "import numpy as np\n",
    "import matplotlib.pyplot as plt\n",
    "\n",
    "from random import choices\n",
    "from scipy import stats\n",
    "\n",
    "sys.path.insert(0, '../src/')"
   ]
  },
  {
   "cell_type": "code",
   "execution_count": null,
   "metadata": {},
   "outputs": [],
   "source": [
    "crimes = pd.read_csv('../data/cleaned/crime-processed.csv')"
   ]
  },
  {
   "cell_type": "code",
   "execution_count": null,
   "metadata": {},
   "outputs": [],
   "source": [
    "crimes.head()"
   ]
  },
  {
   "cell_type": "code",
   "execution_count": null,
   "metadata": {},
   "outputs": [],
   "source": [
    "types = crimes.loc[crimes.Year != 2020].groupby('PredPol Deployed')['Crime Type'].value_counts(normalize=True).unstack().T\n",
    "fig = plt.figure(figsize=(10, 6))\n",
    "ax = fig.add_subplot(1,1,1)\n",
    "types.plot(kind='barh', ax=ax)\n",
    "plt.xlabel('Proportion')\n",
    "plt.title('Distribution of Crime Types (2010-2019)')\n",
    "plt.show()"
   ]
  },
  {
   "cell_type": "code",
   "execution_count": null,
   "metadata": {},
   "outputs": [],
   "source": [
    "types"
   ]
  },
  {
   "cell_type": "code",
   "execution_count": null,
   "metadata": {},
   "outputs": [],
   "source": [
    "crimes['PredPol Deployed'].value_counts(normalize=True)"
   ]
  },
  {
   "cell_type": "code",
   "execution_count": null,
   "metadata": {},
   "outputs": [],
   "source": [
    "def test(crime_tp, prop_pp, prop_nonpp, pct_pp=0.562854, n=100000):\n",
    "    \"\"\"\n",
    "    Tests a single type of crime.\n",
    "    \"\"\"\n",
    "    NUM_POP = n\n",
    "    PCT_PREDPOL = pct_pp\n",
    "    PCT_NONPREDPOL = 1-PCT_PREDPOL\n",
    "    VAR_PREDPOL = 1.0\n",
    "    VAR_NONPREDPOL = 1.0\n",
    "\n",
    "    n_predpol = int(NUM_POP * PCT_PREDPOL)\n",
    "    n_notpredpol = int(NUM_POP * PCT_NONPREDPOL)\n",
    "\n",
    "    # Generate data\n",
    "    M = np.array([0] * n_notpredpol + [1] * n_predpol) # generate predpol variable\n",
    "\n",
    "    # generate error terms: using proportion of crime type\n",
    "    N_PREDPOL = choices([1,0], [prop_pp,1-prop_pp], k=n_predpol)\n",
    "    N_NONPREDPOL = choices([1,0], [prop_nonpp,1-prop_nonpp],k= n_notpredpol)\n",
    "    N = np.append(N_NONPREDPOL, N_PREDPOL)\n",
    "\n",
    "    df = pd.DataFrame({'PredPol Deployed': M, crime_tp: N})\n",
    "    res = stats.ttest_ind(df[df['PredPol Deployed']==1][crime_tp], df[df['PredPol Deployed']==0][crime_tp])\n",
    "    \n",
    "    return res.statistic, res.pvalue"
   ]
  },
  {
   "cell_type": "code",
   "execution_count": null,
   "metadata": {},
   "outputs": [],
   "source": [
    "for tp, row in types.iterrows():\n",
    "    print('Crime Type: ', tp)\n",
    "    stat, pval = test(tp, row[1], row[0])\n",
    "    print('Statistic = ', stat)\n",
    "    print('P-Value = {}\\n'.format(pval))"
   ]
  },
  {
   "cell_type": "code",
   "execution_count": null,
   "metadata": {},
   "outputs": [],
   "source": []
  }
 ],
 "metadata": {
  "kernelspec": {
   "display_name": "Python 3",
   "language": "python",
   "name": "python3"
  },
  "language_info": {
   "codemirror_mode": {
    "name": "ipython",
    "version": 3
   },
   "file_extension": ".py",
   "mimetype": "text/x-python",
   "name": "python",
   "nbconvert_exporter": "python",
   "pygments_lexer": "ipython3",
   "version": "3.7.3"
  }
 },
 "nbformat": 4,
 "nbformat_minor": 2
}
