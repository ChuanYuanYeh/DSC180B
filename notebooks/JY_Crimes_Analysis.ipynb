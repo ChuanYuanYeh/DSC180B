{
 "cells": [
  {
   "cell_type": "code",
   "execution_count": null,
   "metadata": {},
   "outputs": [],
   "source": [
    "from IPython.display import HTML, Image, display\n",
    "\n",
    "HTML('''<script>\n",
    "code_show=true; \n",
    "function code_toggle() {\n",
    " if (code_show){\n",
    " $('div.input').hide();\n",
    " } else {\n",
    " $('div.input').show();\n",
    " }\n",
    " code_show = !code_show\n",
    "} \n",
    "$( document ).ready(code_toggle);\n",
    "</script>\n",
    "<form action=\"javascript:code_toggle()\"><input type=\"submit\" value=\"Click here to toggle on/off the raw code.\"></form>''')"
   ]
  },
  {
   "cell_type": "code",
   "execution_count": null,
   "metadata": {},
   "outputs": [],
   "source": [
    "import sys\n",
    "import glob\n",
    "import pandas as pd\n",
    "import numpy as np\n",
    "import matplotlib.pyplot as plt\n",
    "import seaborn as sns\n",
    "\n",
    "from random import choices\n",
    "from scipy import stats\n",
    "\n",
    "sys.path.insert(0, '../src/')"
   ]
  },
  {
   "cell_type": "code",
   "execution_count": null,
   "metadata": {},
   "outputs": [],
   "source": [
    "ovr_type = pd.read_csv('../viz/Analysis/Crime/ovr_Type_dist.csv',index_col=[0])\n",
    "ovr_charge = pd.read_csv('../viz/Analysis/Crime/ovr_Charge_dist.csv',index_col=[0])\n",
    "\n",
    "type_detailed = pd.read_csv('../viz/Analysis/Crime/div_Type_detailed.csv',index_col=[0,1])\n",
    "charge_detailed = pd.read_csv('../viz/Analysis/Crime/div_Charge_detailed.csv',index_col=[0,1])"
   ]
  },
  {
   "cell_type": "markdown",
   "metadata": {},
   "source": [
    "# Analysis on Crimes Data\n",
    "### Distribution of Crime Types\n",
    "The table below shows the testing results of the overall distribution of crimes by its type. The test used was the T-test which tested whether differences between two means were significant. In our setup, our null hypothesis was that the proportions from each crime type were the same after PredPol was deployed. Setting $\\alpha=0.05$, we were able to reject the null hypothesis for a given crime type if its p-value was under $\\alpha$ and say that the proportion was either higher or lower after PredPol was deployed depending on the resulting statistic. It can be seen that there was an increase in personal crimes while financial and inchoate crimes decreased. Meanwhile, property and statutory crimes had no significant differences. Although this gives a general picture, not all divisions might have seen the same trends."
   ]
  },
  {
   "cell_type": "code",
   "execution_count": null,
   "metadata": {},
   "outputs": [],
   "source": [
    "ovr_type"
   ]
  },
  {
   "cell_type": "markdown",
   "metadata": {},
   "source": [
    "The heatmap below displays the simplified testing results of the proportions when aggregated by divisions. A dark shade which corresponds to -1.0 implies that there was a significant decrease since PredPol's deployment. On the other hand, a light shade, corresponding to 1.0 implies that there was a significant increase. A value of 0.0, or a shade of red, implies the proportions had no significant differences. Here we can see how Inchoate and Personal crimes reflect the previous table. However, property crimes and statutory crimes have higher entropies as some divisions saw increases and others saw decreases. [INCLUDE SOME POSSIBLE EXPLANATIONS]"
   ]
  },
  {
   "cell_type": "code",
   "execution_count": null,
   "metadata": {},
   "outputs": [],
   "source": [
    "display(Image('../viz/Analysis/Crime/div_Type_dist.png'))"
   ]
  },
  {
   "cell_type": "markdown",
   "metadata": {},
   "source": [
    "Below is the detailed version of the T-test results by divisions. [BELONGS IN APPENDIX]"
   ]
  },
  {
   "cell_type": "code",
   "execution_count": null,
   "metadata": {},
   "outputs": [],
   "source": [
    "type_detailed.head()"
   ]
  },
  {
   "cell_type": "markdown",
   "metadata": {},
   "source": [
    "### Distribution of Crime Charges\n"
   ]
  },
  {
   "cell_type": "code",
   "execution_count": null,
   "metadata": {},
   "outputs": [],
   "source": [
    "ovr_charge"
   ]
  },
  {
   "cell_type": "code",
   "execution_count": null,
   "metadata": {},
   "outputs": [],
   "source": [
    "display(Image('../viz/Analysis/Crime/div_Charge_dist.png'))"
   ]
  },
  {
   "cell_type": "code",
   "execution_count": null,
   "metadata": {},
   "outputs": [],
   "source": [
    "charge_detailed.head()"
   ]
  },
  {
   "cell_type": "code",
   "execution_count": null,
   "metadata": {},
   "outputs": [],
   "source": []
  }
 ],
 "metadata": {
  "kernelspec": {
   "display_name": "Python 3",
   "language": "python",
   "name": "python3"
  },
  "language_info": {
   "codemirror_mode": {
    "name": "ipython",
    "version": 3
   },
   "file_extension": ".py",
   "mimetype": "text/x-python",
   "name": "python",
   "nbconvert_exporter": "python",
   "pygments_lexer": "ipython3",
   "version": "3.7.3"
  }
 },
 "nbformat": 4,
 "nbformat_minor": 2
}
