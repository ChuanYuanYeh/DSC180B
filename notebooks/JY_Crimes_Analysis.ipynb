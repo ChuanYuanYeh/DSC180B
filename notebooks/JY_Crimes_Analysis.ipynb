{
 "cells": [
  {
   "cell_type": "code",
   "execution_count": null,
   "metadata": {},
   "outputs": [],
   "source": [
    "import sys\n",
    "import pandas as pd\n",
    "import numpy as np\n",
    "import matplotlib.pyplot as plt\n",
    "import seaborn as sns\n",
    "\n",
    "from random import choices\n",
    "from scipy import stats\n",
    "\n",
    "sys.path.insert(0, '../src/')"
   ]
  },
  {
   "cell_type": "code",
   "execution_count": null,
   "metadata": {},
   "outputs": [],
   "source": [
    "crimes = pd.read_csv('../data/cleaned/crime-processed.csv')"
   ]
  },
  {
   "cell_type": "code",
   "execution_count": null,
   "metadata": {},
   "outputs": [],
   "source": [
    "crimes.head()"
   ]
  },
  {
   "cell_type": "code",
   "execution_count": null,
   "metadata": {},
   "outputs": [],
   "source": [
    "types = crimes.loc[crimes.Year != 2020].groupby('PredPol Deployed')['Crime Charge'].value_counts(normalize=True).unstack().T\n",
    "fig = plt.figure(figsize=(10, 6))\n",
    "ax = fig.add_subplot(1,1,1)\n",
    "types.plot(kind='barh', ax=ax)\n",
    "plt.xlabel('Proportion')\n",
    "plt.title('Distribution of Crime Types (2010-2019)')\n",
    "plt.show()"
   ]
  },
  {
   "cell_type": "code",
   "execution_count": null,
   "metadata": {},
   "outputs": [],
   "source": [
    "types"
   ]
  },
  {
   "cell_type": "code",
   "execution_count": null,
   "metadata": {},
   "outputs": [],
   "source": [
    "crimes['PredPol Deployed'].value_counts(normalize=True)"
   ]
  },
  {
   "cell_type": "code",
   "execution_count": null,
   "metadata": {},
   "outputs": [],
   "source": [
    "def test(crime_tp, prop_pp, prop_nonpp, pct_pp=0.562854, n=100000):\n",
    "    \"\"\"\n",
    "    Tests a single type of crime.\n",
    "    \"\"\"\n",
    "    NUM_POP = n\n",
    "    PCT_PREDPOL = pct_pp\n",
    "    PCT_NONPREDPOL = 1-PCT_PREDPOL\n",
    "    VAR_PREDPOL = 1.0\n",
    "    VAR_NONPREDPOL = 1.0\n",
    "\n",
    "    n_predpol = int(NUM_POP * PCT_PREDPOL)\n",
    "    n_notpredpol = int(NUM_POP * PCT_NONPREDPOL)\n",
    "\n",
    "    # Generate data\n",
    "    M = np.array([0] * n_notpredpol + [1] * n_predpol) # generate predpol variable\n",
    "\n",
    "    # generate error terms: using proportion of crime type\n",
    "    N_PREDPOL = choices([1,0], [prop_pp,1-prop_pp], k=n_predpol)\n",
    "    N_NONPREDPOL = choices([1,0], [prop_nonpp,1-prop_nonpp],k= n_notpredpol)\n",
    "    N = np.append(N_NONPREDPOL, N_PREDPOL)\n",
    "\n",
    "    df = pd.DataFrame({'PredPol Deployed': M, crime_tp: N})\n",
    "    res = stats.ttest_ind(df[df['PredPol Deployed']==1][crime_tp], df[df['PredPol Deployed']==0][crime_tp])\n",
    "    \n",
    "    return res.statistic, res.pvalue"
   ]
  },
  {
   "cell_type": "code",
   "execution_count": null,
   "metadata": {},
   "outputs": [],
   "source": [
    "statvals = []\n",
    "pvals = []\n",
    "for tp, row in types.iterrows():\n",
    "    print('Crime Type: ', tp)\n",
    "    stat, pval = test(tp, row[1], row[0])\n",
    "    statvals.append(stat.round(5))\n",
    "    pvals.append(pval.round(5))\n",
    "    print('Statistic = ', stat)\n",
    "    print('P-Value = {}\\n'.format(pval))\n",
    "pd.DataFrame({'Statistic':statvals, 'P-Value':pvals}, \n",
    "             index=['Felony','Infraction','Misdemeanor','Others','Wobbler','Wobblette'])"
   ]
  },
  {
   "cell_type": "markdown",
   "metadata": {},
   "source": [
    "Significant decrease in 'Financial/Other' and 'Inchoate' crimes. Significant increase in Personal crimes. Others are insignifcant and thus inconclusive.\n",
    "\n",
    "We can then proceed to look at the distribution of crime type by divisions to hopefully get an answer to why certain divisions saw crime increases while others saw decreases."
   ]
  },
  {
   "cell_type": "code",
   "execution_count": null,
   "metadata": {},
   "outputs": [],
   "source": [
    "div_types = crimes.loc[crimes.Year != 2020].groupby(['AREA NAME','PredPol Deployed'])['Crime Charge']\\\n",
    "    .value_counts(normalize=True).unstack()\n",
    "div_types.head()"
   ]
  },
  {
   "cell_type": "code",
   "execution_count": null,
   "metadata": {
    "scrolled": true
   },
   "outputs": [],
   "source": [
    "results = pd.DataFrame()\n",
    "for div, df in div_types.groupby(level=0):\n",
    "    print('Analyzing division: ', div)\n",
    "    new_df = df.T\n",
    "    vals = []\n",
    "    pvals = []\n",
    "    statvals = []\n",
    "    for tp, row in new_df.iterrows():\n",
    "        print('Crime Charge: ', tp)\n",
    "        stat, pval = test(tp, row[1], row[0])\n",
    "        pvals.append(pval)\n",
    "        statvals.append(stat)\n",
    "        if pval <= 0.05:\n",
    "            if stat > 0:\n",
    "                vals.append(1)\n",
    "            elif stat < 0:\n",
    "                vals.append(-1)\n",
    "            else:\n",
    "                vals.append(0)\n",
    "        else:\n",
    "            vals.append(0)\n",
    "        print('Statistic = ', stat)\n",
    "        print('P-Value = {}\\n'.format(pval))\n",
    "    #pd.DataFrame({'Statistic':statvals, 'P-Value':pvals}, index=TYPES).to_csv(os.path.join(outpath, '{}_tp_dist.csv'.format(div)), index=False)\n",
    "    results[div] = vals\n",
    "    print('-'*20)\n",
    "    print('')"
   ]
  },
  {
   "cell_type": "code",
   "execution_count": null,
   "metadata": {},
   "outputs": [],
   "source": [
    "results.set_index(pd.Index(['Felony','Infraction','Misdemeanor','Others','Wobbler','Wobblette']), inplace=True)\n",
    "results"
   ]
  },
  {
   "cell_type": "code",
   "execution_count": null,
   "metadata": {},
   "outputs": [],
   "source": [
    "sns.heatmap(results.T, annot=False, xticklabels=True, yticklabels=True)"
   ]
  },
  {
   "cell_type": "code",
   "execution_count": null,
   "metadata": {},
   "outputs": [],
   "source": []
  }
 ],
 "metadata": {
  "kernelspec": {
   "display_name": "Python 3",
   "language": "python",
   "name": "python3"
  },
  "language_info": {
   "codemirror_mode": {
    "name": "ipython",
    "version": 3
   },
   "file_extension": ".py",
   "mimetype": "text/x-python",
   "name": "python",
   "nbconvert_exporter": "python",
   "pygments_lexer": "ipython3",
   "version": "3.7.3"
  }
 },
 "nbformat": 4,
 "nbformat_minor": 2
}
